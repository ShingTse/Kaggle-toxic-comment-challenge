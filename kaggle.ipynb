{
 "cells": [
  {
   "cell_type": "code",
   "execution_count": 1,
   "metadata": {},
   "outputs": [
    {
     "name": "stderr",
     "output_type": "stream",
     "text": [
      "Using TensorFlow backend.\n"
     ]
    }
   ],
   "source": [
    "import gensim\n",
    "import nltk\n",
    "import numpy as np\n",
    "import pandas as pd\n",
    "import keras\n",
    "from gensim.models import Word2Vec\n",
    "from keras.preprocessing.text import Tokenizer\n",
    "from keras.preprocessing.sequence import pad_sequences\n",
    "from keras.models import Model,Sequential\n",
    "from keras.layers import Dense, Embedding, Input, Activation\n",
    "from keras.layers import LSTM, Bidirectional, GlobalMaxPool1D, Dropout\n",
    "from keras.preprocessing import text, sequence\n",
    "from keras.callbacks import EarlyStopping, ModelCheckpoint"
   ]
  },
  {
   "cell_type": "code",
   "execution_count": 2,
   "metadata": {
    "collapsed": true
   },
   "outputs": [],
   "source": [
    "train = pd.read_csv(\"train.csv\")\n",
    "test = pd.read_csv(\"test.csv\")\n",
    "#x=train[\"comment_text\"].values.tolist()\n",
    "#train.str.replace('[^A-Za-z\\s]+','')\n",
    "#train.str.replace('\\n','')"
   ]
  },
  {
   "cell_type": "code",
   "execution_count": 3,
   "metadata": {
    "collapsed": true
   },
   "outputs": [],
   "source": [
    "train['count_unique_word']=train['comment_text'].apply(lambda x: len(set(str(x).split())))\n",
    "train['count_word']=train['comment_text'].apply(lambda x: len(str(x).split()))\n",
    "train['word_unique_percent']=train['count_unique_word']*100/train['count_word']\n",
    "train = train[train['word_unique_percent']>10]"
   ]
  },
  {
   "cell_type": "code",
   "execution_count": 4,
   "metadata": {
    "collapsed": true
   },
   "outputs": [],
   "source": [
    "x=train['comment_text'].values.tolist()\n",
    "corpus= [nltk.word_tokenize(sent) for sent in x]\n",
    "list_classes = [\"toxic\", \"severe_toxic\", \"obscene\", \"threat\", \"insult\", \"identity_hate\"]\n",
    "y = train[list_classes].values\n",
    "list_sentences_test = test[\"comment_text\"].fillna(\"na\").values"
   ]
  },
  {
   "cell_type": "code",
   "execution_count": 5,
   "metadata": {
    "collapsed": true
   },
   "outputs": [],
   "source": [
    "max_features=25000\n",
    "maxlen=100\n",
    "tokenizer = Tokenizer(num_words=max_features)\n",
    "tokenizer.fit_on_texts(x)\n",
    "word_index=tokenizer.word_index\n",
    "list_tokenized_train = tokenizer.texts_to_sequences(x)\n",
    "list_tokenized_test = tokenizer.texts_to_sequences(list_sentences_test)\n",
    "X_t = pad_sequences(list_tokenized_train, maxlen=maxlen)\n",
    "X_te = pad_sequences(list_tokenized_test, maxlen=maxlen)"
   ]
  },
  {
   "cell_type": "code",
   "execution_count": 6,
   "metadata": {
    "collapsed": true
   },
   "outputs": [],
   "source": [
    "#train word embedding using words in training set\n",
    "from gensim.models import Word2Vec\n",
    "embedding=gensim.models.Word2Vec(corpus,size=128)\n",
    "embedding.save(\"word2vec.model\")\n",
    "model=Word2Vec.load('word2vec.model')"
   ]
  },
  {
   "cell_type": "code",
   "execution_count": 7,
   "metadata": {
    "collapsed": true
   },
   "outputs": [],
   "source": [
    "#Map vocabularies and trained word vector to a dictionary file\n",
    "my_dict = dict({})\n",
    "for idx, key in enumerate(model.wv.vocab):\n",
    "    my_dict[key] = model.wv[key]"
   ]
  },
  {
   "cell_type": "code",
   "execution_count": 8,
   "metadata": {
    "collapsed": true
   },
   "outputs": [],
   "source": [
    "#load weight matrix from our pretrained word2vec model\n",
    "max_features = 25000 \n",
    "maxlen = 100\n",
    "embed_size=128\n",
    "nb_words = min(max_features, len(word_index))\n",
    "embedding_matrix = np.random.normal(0, 1, (nb_words, embed_size))\n",
    "for word,i in word_index.items():\n",
    "    if i >= max_features: continue\n",
    "    embedding_vector=my_dict.get(word)\n",
    "    if embedding_vector is not None: embedding_matrix[i] = embedding_vector"
   ]
  },
  {
   "cell_type": "code",
   "execution_count": 10,
   "metadata": {},
   "outputs": [
    {
     "data": {
      "text/plain": [
       "<keras.callbacks.History at 0x7f9398711588>"
      ]
     },
     "execution_count": 10,
     "metadata": {},
     "output_type": "execute_result"
    }
   ],
   "source": [
    "inp = Input(shape=(maxlen,))\n",
    "NN = Embedding(max_features, embed_size, weights=[embedding_matrix])(inp)\n",
    "NN = Bidirectional(LSTM(50, return_sequences=True))(NN)\n",
    "NN = GlobalMaxPool1D()(NN)\n",
    "NN = Dropout(0.1)(NN)\n",
    "NN = Dense(50,activation = 'relu' )(NN)\n",
    "NN = Dropout(0.1)(NN)\n",
    "NN = Dense(6, activation ='sigmoid')(NN)\n",
    "x = Model(inputs=inp, outputs=NN)\n",
    "x.compile(loss='binary_crossentropy',optimizer='adam',metrics=['accuracy'])\n",
    "x.fit(X_t, y, epochs=3, batch_size=100, validation_split=0.2, verbose=0)"
   ]
  },
  {
   "cell_type": "code",
   "execution_count": 13,
   "metadata": {},
   "outputs": [
    {
     "name": "stdout",
     "output_type": "stream",
     "text": [
      "153164/153164 [==============================] - 185s 1ms/step\n"
     ]
    }
   ],
   "source": [
    "y_test = x.predict([X_te], batch_size=1024, verbose=1)"
   ]
  },
  {
   "cell_type": "code",
   "execution_count": 21,
   "metadata": {
    "collapsed": true
   },
   "outputs": [],
   "source": [
    "#sample_submission1 = pd.read_csv(\"sample_submission1.csv\")\n",
    "#sample_submission1[list_classes] = y_test\n",
    "#sample_submission1.to_csv('submission.csv', index=False)"
   ]
  },
  {
   "cell_type": "code",
   "execution_count": null,
   "metadata": {
    "collapsed": true
   },
   "outputs": [],
   "source": []
  }
 ],
 "metadata": {
  "kernelspec": {
   "display_name": "Python 3",
   "language": "python",
   "name": "python3"
  },
  "language_info": {
   "codemirror_mode": {
    "name": "ipython",
    "version": 3
   },
   "file_extension": ".py",
   "mimetype": "text/x-python",
   "name": "python",
   "nbconvert_exporter": "python",
   "pygments_lexer": "ipython3",
   "version": "3.6.1"
  }
 },
 "nbformat": 4,
 "nbformat_minor": 2
}
